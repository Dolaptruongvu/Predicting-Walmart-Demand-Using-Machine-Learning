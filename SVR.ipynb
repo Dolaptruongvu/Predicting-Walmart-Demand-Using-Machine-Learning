{
 "cells": [
  {
   "cell_type": "code",
   "execution_count": null,
   "metadata": {},
   "outputs": [],
   "source": [
    "import pandas as pd\n",
    "from sklearn.svm import SVR\n",
    "from sklearn.model_selection import train_test_split\n",
    "from sklearn.metrics import mean_squared_error, mean_absolute_error\n",
    "from sklearn.inspection import permutation_importance\n",
    "import numpy as np\n",
    "import matplotlib.pyplot as plt"
   ]
  },
  {
   "cell_type": "code",
   "execution_count": null,
   "metadata": {},
   "outputs": [],
   "source": [
    "# Bước 1: Đọc tệp CSV\n",
    "file_path = \"../dataset/data.csv\"  # Cập nhật đường dẫn tới tệp CSV của bạn\n",
    "data = pd.read_csv(file_path)\n",
    "\n",
    "data['Date'] = pd.to_datetime(data['Date'])\n",
    "data.set_index('Date', inplace=True)"
   ]
  },
  {
   "cell_type": "code",
   "execution_count": null,
   "metadata": {},
   "outputs": [],
   "source": [
    "# Bước 2: Bỏ cột 'IsHoliday' và xác định biến độc lập (X) và biến phụ thuộc (y)\n",
    "X = data.drop(columns=['Weekly_Sales', 'IsHoliday'])\n",
    "y = data['Weekly_Sales']\n"
   ]
  },
  {
   "cell_type": "code",
   "execution_count": null,
   "metadata": {},
   "outputs": [],
   "source": [
    "# Bước 3: Chia dữ liệu thành tập huấn luyện và tập kiểm tra\n",
    "X_train, X_test, y_train, y_test = train_test_split(X, y, test_size=0.2, random_state=42)\n",
    "\n",
    "# Khởi tạo và huấn luyện mô hình SVR với các tham số tùy chỉnh\n",
    "model = SVR(kernel='rbf', C=1.0, epsilon=0.1)\n",
    "model.fit(X_train, y_train)"
   ]
  },
  {
   "cell_type": "code",
   "execution_count": null,
   "metadata": {},
   "outputs": [],
   "source": [
    "# Bước 4: Lấy tầm quan trọng của các đặc trưng\n",
    "result = permutation_importance(model, X_test, y_test, n_repeats=10, random_state=42)\n",
    "\n",
    "coef_df = pd.DataFrame({\n",
    "    'Variable': X.columns,\n",
    "    'Importance': result.importances_mean\n",
    "}).sort_values(by='Importance', ascending=False)\n",
    "\n",
    "# In tầm quan trọng của từng biến\n",
    "print(coef_df)"
   ]
  },
  {
   "cell_type": "code",
   "execution_count": null,
   "metadata": {},
   "outputs": [],
   "source": [
    "# Bước 5: Dự báo doanh số cho Cửa hàng 1 và Bộ phận 1\n",
    "store_1_dept_1 = data[(data['Store'] == 1) & (data['Dept'] == 1)]\n",
    "X_store_dept = store_1_dept_1.drop(columns=['Weekly_Sales', 'IsHoliday'])\n",
    "\n",
    "# Dự báo doanh số cho Cửa hàng 1 và Bộ phận 1\n",
    "store_dept_sales_pred = model.predict(X_store_dept)\n",
    "\n",
    "# Doanh số thực tế cho Cửa hàng 1 và Bộ phận 1\n",
    "store_dept_sales_actual = store_1_dept_1['Weekly_Sales']\n"
   ]
  },
  {
   "cell_type": "code",
   "execution_count": null,
   "metadata": {},
   "outputs": [],
   "source": [
    "# Bước 6: Vẽ đồ thị so sánh doanh số thực tế và dự báo\n",
    "plt.figure(figsize=(12, 6))\n",
    "plt.plot(store_1_dept_1.index, store_dept_sales_actual, label='Doanh số thực tế', color='blue', marker='o', linestyle='-')\n",
    "plt.plot(store_1_dept_1.index, store_dept_sales_pred, label='Doanh số dự báo', color='orange', marker='x', linestyle='--')\n",
    "plt.xlabel('Ngày')\n",
    "plt.ylabel('Doanh số hàng tuần')\n",
    "plt.title('So sánh Doanh số Thực tế và Dự báo cho Cửa hàng 1 và Bộ phận 1')\n",
    "plt.legend()\n",
    "plt.grid()\n",
    "plt.show()"
   ]
  },
  {
   "cell_type": "code",
   "execution_count": null,
   "metadata": {},
   "outputs": [],
   "source": [
    "# Bước 7: Dự báo hai tuần tiếp theo\n",
    "last_date = store_1_dept_1.index.max()\n",
    "\n",
    "next_two_weeks = pd.date_range(start=last_date + pd.Timedelta(days=7), periods=2, freq='W')\n",
    "\n",
    "new_data = pd.DataFrame({\n",
    "    'Store': [1, 1],\n",
    "    'Dept': [1, 1],\n",
    "    'Size': [store_1_dept_1['Size'].mean(), store_1_dept_1['Size'].mean()],\n",
    "    'Temperature': [60.0, 58.0],\n",
    "    'Fuel_Price': [3.5, 3.6],\n",
    "    'MarkDown1': [0.0, 0.0],\n",
    "    'MarkDown2': [0.0, 0.0],\n",
    "    'MarkDown3': [0.0, 0.0],\n",
    "    'MarkDown4': [0.0, 0.0],\n",
    "    'MarkDown5': [0.0, 0.0],\n",
    "    'CPI': [211.0, 211.0],\n",
    "    'Unemployment': [8.0, 8.0]\n",
    "}, index=next_two_weeks)\n",
    "\n",
    "# Dự báo doanh số cho hai tuần tiếp theo\n",
    "predicted_sales_next_2_weeks = model.predict(new_data)\n",
    "\n",
    "new_data['Predicted_Weekly_Sales'] = predicted_sales_next_2_weeks\n",
    "\n",
    "# In doanh số dự báo cho hai tuần tiếp theo\n",
    "print(\"Doanh số dự báo cho 2 tuần tiếp theo:\")\n",
    "print(new_data[['Predicted_Weekly_Sales']])\n"
   ]
  },
  {
   "cell_type": "code",
   "execution_count": null,
   "metadata": {},
   "outputs": [],
   "source": [
    "# Bước 8: Vẽ đồ thị doanh số dự báo cho hai tuần tiếp theo\n",
    "plt.figure(figsize=(12, 6))\n",
    "plt.plot(store_1_dept_1.index, store_dept_sales_actual, label='Doanh số thực tế', color='blue', marker='o', linestyle='-')\n",
    "plt.plot(store_1_dept_1.index, store_dept_sales_pred, label='Doanh số dự báo', color='orange', marker='x', linestyle='--')\n",
    "plt.plot(new_data.index, new_data['Predicted_Weekly_Sales'], label='Dự báo 2 tuần tiếp theo', color='green', marker='o', linestyle='--')\n",
    "plt.xlabel('Ngày')\n",
    "plt.ylabel('Doanh số hàng tuần')\n",
    "plt.title('So sánh Doanh số Thực tế, Dự báo và Dự báo 2 Tuần Tiếp theo cho Cửa hàng 1 và Bộ phận 1')\n",
    "plt.legend()\n",
    "plt.grid()\n",
    "plt.show()"
   ]
  }
 ],
 "metadata": {
  "kernelspec": {
   "display_name": "Python 3",
   "language": "python",
   "name": "python3"
  },
  "language_info": {
   "codemirror_mode": {
    "name": "ipython",
    "version": 3
   },
   "file_extension": ".py",
   "mimetype": "text/x-python",
   "name": "python",
   "nbconvert_exporter": "python",
   "pygments_lexer": "ipython3",
   "version": "3.11.9"
  }
 },
 "nbformat": 4,
 "nbformat_minor": 2
}
